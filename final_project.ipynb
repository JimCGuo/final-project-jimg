{
 "cells": [
  {
   "cell_type": "markdown",
   "id": "8b750025-903e-443c-a7d2-2198a797cd7d",
   "metadata": {},
   "source": [
    "# Your Final Project Title\n",
    "\n",
    "- Keeley: put their contribution here\n",
    "- Goar: put their contribution here\n",
    "- Isaac: put their contribution here\n",
    "- Jim: put their contribution here\n",
    "- Vik: put their contribution here \n"
   ]
  },
  {
   "cell_type": "markdown",
   "id": "058fac54-a1a8-426b-b1ef-63c28e9804bc",
   "metadata": {},
   "source": [
    "# Research Question\n",
    "##### Which video game will have the most positive sentiment analysis on Twitter?\n",
    "##### Which video game will have the most negative sentiment analysis?\n"
   ]
  },
  {
   "cell_type": "code",
   "execution_count": 2,
   "id": "c6a99238-93be-41d3-a82f-c5b8fb5d7141",
   "metadata": {
    "tags": []
   },
   "outputs": [],
   "source": [
    "# Description of data"
   ]
  },
  {
   "cell_type": "code",
   "execution_count": null,
   "id": "1411df16-fe18-40d2-aa1f-05ae3abeda72",
   "metadata": {},
   "outputs": [],
   "source": []
  }
 ],
 "metadata": {
  "kernelspec": {
   "display_name": "Python 3 (ipykernel)",
   "language": "python",
   "name": "python3"
  },
  "language_info": {
   "codemirror_mode": {
    "name": "ipython",
    "version": 3
   },
   "file_extension": ".py",
   "mimetype": "text/x-python",
   "name": "python",
   "nbconvert_exporter": "python",
   "pygments_lexer": "ipython3",
   "version": "3.10.9"
  }
 },
 "nbformat": 4,
 "nbformat_minor": 5
}
