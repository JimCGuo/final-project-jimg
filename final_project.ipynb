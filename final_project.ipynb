{
 "cells": [
  {
   "cell_type": "markdown",
   "id": "8b750025-903e-443c-a7d2-2198a797cd7d",
   "metadata": {},
   "source": [
    "# Your Final Project Title\n",
    "\n",
    "- Keeley: put their contribution here\n",
    "- Goar: put their contribution here\n",
    "- Isaac: put their contribution here\n",
    "- Jim: put their contribution here\n",
    "- Vik: put their contribution here \n"
   ]
  },
  {
   "cell_type": "markdown",
   "id": "058fac54-a1a8-426b-b1ef-63c28e9804bc",
   "metadata": {},
   "source": []
  }
 ],
 "metadata": {
  "kernelspec": {
   "display_name": "Python 3 (ipykernel)",
   "language": "python",
   "name": "python3"
  },
  "language_info": {
   "codemirror_mode": {
    "name": "ipython",
    "version": 3
   },
   "file_extension": ".py",
   "mimetype": "text/x-python",
   "name": "python",
   "nbconvert_exporter": "python",
   "pygments_lexer": "ipython3",
   "version": "3.10.9"
  }
 },
 "nbformat": 4,
 "nbformat_minor": 5
}
